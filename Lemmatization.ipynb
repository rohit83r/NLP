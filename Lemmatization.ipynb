{
 "cells": [
  {
   "cell_type": "code",
   "execution_count": 15,
   "id": "6142905c",
   "metadata": {},
   "outputs": [],
   "source": [
    "## Lemmatization is the process of reducing a word to its base or root form.\n",
    "## This script demonstrates how to use the NLTK library for lemmatization."
   ]
  },
  {
   "cell_type": "code",
   "execution_count": 16,
   "id": "1d74572c",
   "metadata": {},
   "outputs": [
    {
     "name": "stderr",
     "output_type": "stream",
     "text": [
      "[nltk_data] Downloading package wordnet to C:\\Users\\rohit/nltk_data...\n",
      "[nltk_data]   Package wordnet is already up-to-date!\n"
     ]
    },
    {
     "data": {
      "text/plain": [
       "True"
      ]
     },
     "execution_count": 16,
     "metadata": {},
     "output_type": "execute_result"
    }
   ],
   "source": [
    "from nltk.stem import WordNetLemmatizer\n",
    "import nltk\n",
    "nltk.download('wordnet')"
   ]
  },
  {
   "cell_type": "code",
   "execution_count": 17,
   "id": "ab81b559",
   "metadata": {},
   "outputs": [],
   "source": [
    "lemmatizer = WordNetLemmatizer()"
   ]
  },
  {
   "cell_type": "code",
   "execution_count": 18,
   "id": "f123ae96",
   "metadata": {},
   "outputs": [
    {
     "data": {
      "text/plain": [
       "'run'"
      ]
     },
     "execution_count": 18,
     "metadata": {},
     "output_type": "execute_result"
    }
   ],
   "source": [
    "lemmatizer.lemmatize(\"running\",pos='v')  # Default is noun"
   ]
  },
  {
   "cell_type": "code",
   "execution_count": 19,
   "id": "982400fa",
   "metadata": {},
   "outputs": [],
   "source": [
    "words = [\"goes\", \"going\", \"gone\", \"went\",\"eats\", \"eating\", \"eaten\", \"ate\",\"writes\", \"writing\", \"written\", \"wrote\",\"dances\", \"dancing\", \"danced\", \"dance\"]"
   ]
  },
  {
   "cell_type": "code",
   "execution_count": null,
   "id": "cb3d5542",
   "metadata": {},
   "outputs": [
    {
     "name": "stdout",
     "output_type": "stream",
     "text": [
      "goes -> go\n",
      "goes -> go\n",
      "going -> go\n",
      "going -> going\n",
      "gone -> go\n",
      "gone -> gone\n",
      "went -> go\n",
      "went -> went\n",
      "eats -> eat\n",
      "eats -> eats\n",
      "eating -> eat\n",
      "eating -> eating\n",
      "eaten -> eat\n",
      "eaten -> eaten\n",
      "ate -> eat\n",
      "ate -> ate\n",
      "writes -> write\n",
      "writes -> writes\n",
      "writing -> write\n",
      "writing -> writing\n",
      "written -> write\n",
      "written -> written\n",
      "wrote -> write\n",
      "wrote -> wrote\n",
      "dances -> dance\n",
      "dances -> dance\n",
      "dancing -> dance\n",
      "dancing -> dancing\n",
      "danced -> dance\n",
      "danced -> danced\n",
      "dance -> dance\n",
      "dance -> dance\n"
     ]
    }
   ],
   "source": [
    "for word in words:\n",
    "    print(f\"{word} -> {lemmatizer.lemmatize(word, pos='v')}\")  # Using 'v' for verb\n",
    "    print(f\"{word} -> {lemmatizer.lemmatize(word)}\")  # Default is noun"
   ]
  },
  {
   "cell_type": "code",
   "execution_count": 21,
   "id": "a1967618",
   "metadata": {},
   "outputs": [
    {
     "data": {
      "text/plain": [
       "('fairly', 'sportingly', 'unfairly', 'go')"
      ]
     },
     "execution_count": 21,
     "metadata": {},
     "output_type": "execute_result"
    }
   ],
   "source": [
    "lemmatizer.lemmatize(\"fairly\"),lemmatizer.lemmatize(\"sportingly\"),lemmatizer.lemmatize(\"unfairly\"),lemmatizer.lemmatize(\"goes\")"
   ]
  }
 ],
 "metadata": {
  "kernelspec": {
   "display_name": "Python 3",
   "language": "python",
   "name": "python3"
  },
  "language_info": {
   "codemirror_mode": {
    "name": "ipython",
    "version": 3
   },
   "file_extension": ".py",
   "mimetype": "text/x-python",
   "name": "python",
   "nbconvert_exporter": "python",
   "pygments_lexer": "ipython3",
   "version": "3.13.4"
  }
 },
 "nbformat": 4,
 "nbformat_minor": 5
}
