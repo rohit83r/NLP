{
 "cells": [
  {
   "cell_type": "code",
   "execution_count": 6,
   "id": "b3b0200b",
   "metadata": {},
   "outputs": [],
   "source": [
    "# Parts-of-speech tags\n",
    "# - 'n' for noun\n",
    "# - 'v' for verb        \n",
    "# - 'a' for adjective\n",
    "# - 'r' for adverb\n"
   ]
  },
  {
   "cell_type": "code",
   "execution_count": 7,
   "id": "ba66b30b",
   "metadata": {},
   "outputs": [],
   "source": [
    "paragraph=\"\"\"I have three visions for India. In 3000 years of our history, people from all over the world have come and invaded us, captured our lands, conquered our minds. From Alexander onwards, the Greeks, the Turks, the Moguls, the Portuguese, the French, the British, all of them came and looted us without ever understanding what we are. Why? Because we never thought of them as our mind conquerors. We never fought them on that level. We have given them a lot of land, but we have never fought them ideologically. We never thought about them as an enemy and tried to defeat them. Until we learn that, we would continue to be a third-rate nation. We have to fight them on that level, and we have to win that war. That is the first vision I have for India.\"\"\"\"\""
   ]
  },
  {
   "cell_type": "code",
   "execution_count": 8,
   "id": "aad9a6a9",
   "metadata": {},
   "outputs": [],
   "source": [
    "from nltk.corpus import stopwords\n",
    "import nltk\n",
    "sentences = nltk.sent_tokenize(paragraph)"
   ]
  },
  {
   "cell_type": "code",
   "execution_count": 9,
   "id": "d2c93e9d",
   "metadata": {},
   "outputs": [
    {
     "data": {
      "text/plain": [
       "['I have three visions for India.',\n",
       " 'In 3000 years of our history, people from all over the world have come and invaded us, captured our lands, conquered our minds.',\n",
       " 'From Alexander onwards, the Greeks, the Turks, the Moguls, the Portuguese, the French, the British, all of them came and looted us without ever understanding what we are.',\n",
       " 'Why?',\n",
       " 'Because we never thought of them as our mind conquerors.',\n",
       " 'We never fought them on that level.',\n",
       " 'We have given them a lot of land, but we have never fought them ideologically.',\n",
       " 'We never thought about them as an enemy and tried to defeat them.',\n",
       " 'Until we learn that, we would continue to be a third-rate nation.',\n",
       " 'We have to fight them on that level, and we have to win that war.',\n",
       " 'That is the first vision I have for India.']"
      ]
     },
     "execution_count": 9,
     "metadata": {},
     "output_type": "execute_result"
    }
   ],
   "source": [
    "sentences"
   ]
  },
  {
   "cell_type": "code",
   "execution_count": 10,
   "id": "a9e65b8c",
   "metadata": {},
   "outputs": [
    {
     "name": "stdout",
     "output_type": "stream",
     "text": [
      "Sentence 1: I have three visions for India.\n",
      "POS Tags: [('I', 'PRP'), ('three', 'CD'), ('visions', 'NNS'), ('India', 'NNP'), ('.', '.')]\n",
      "\n",
      "\n",
      "Sentence 2: In 3000 years of our history, people from all over the world have come and invaded us, captured our lands, conquered our minds.\n",
      "POS Tags: [('In', 'IN'), ('3000', 'CD'), ('years', 'NNS'), ('history', 'NN'), (',', ','), ('people', 'NNS'), ('world', 'NN'), ('come', 'VBP'), ('invaded', 'VBN'), ('us', 'PRP'), (',', ','), ('captured', 'VBD'), ('lands', 'NNS'), (',', ','), ('conquered', 'VBD'), ('minds', 'NNS'), ('.', '.')]\n",
      "\n",
      "\n",
      "Sentence 3: From Alexander onwards, the Greeks, the Turks, the Moguls, the Portuguese, the French, the British, all of them came and looted us without ever understanding what we are.\n",
      "POS Tags: [('From', 'IN'), ('Alexander', 'NNP'), ('onwards', 'NNS'), (',', ','), ('Greeks', 'NNP'), (',', ','), ('Turks', 'NNP'), (',', ','), ('Moguls', 'NNP'), (',', ','), ('Portuguese', 'NNP'), (',', ','), ('French', 'NNP'), (',', ','), ('British', 'NNP'), (',', ','), ('came', 'VBD'), ('looted', 'VBN'), ('us', 'PRP'), ('without', 'IN'), ('ever', 'RB'), ('understanding', 'VBG'), ('.', '.')]\n",
      "\n",
      "\n",
      "Sentence 4: Why?\n",
      "POS Tags: [('Why', 'WRB'), ('?', '.')]\n",
      "\n",
      "\n",
      "Sentence 5: Because we never thought of them as our mind conquerors.\n",
      "POS Tags: [('Because', 'IN'), ('never', 'RB'), ('thought', 'VBN'), ('mind', 'NN'), ('conquerors', 'NNS'), ('.', '.')]\n",
      "\n",
      "\n",
      "Sentence 6: We never fought them on that level.\n",
      "POS Tags: [('We', 'PRP'), ('never', 'RB'), ('fought', 'VBD'), ('level', 'NN'), ('.', '.')]\n",
      "\n",
      "\n",
      "Sentence 7: We have given them a lot of land, but we have never fought them ideologically.\n",
      "POS Tags: [('We', 'PRP'), ('given', 'VBN'), ('lot', 'NN'), ('land', 'NN'), (',', ','), ('never', 'RB'), ('fought', 'VBN'), ('ideologically', 'RB'), ('.', '.')]\n",
      "\n",
      "\n",
      "Sentence 8: We never thought about them as an enemy and tried to defeat them.\n",
      "POS Tags: [('We', 'PRP'), ('never', 'RB'), ('thought', 'VBD'), ('enemy', 'RB'), ('tried', 'JJ'), ('defeat', 'NN'), ('.', '.')]\n",
      "\n",
      "\n",
      "Sentence 9: Until we learn that, we would continue to be a third-rate nation.\n",
      "POS Tags: [('Until', 'IN'), ('learn', 'JJ'), (',', ','), ('would', 'MD'), ('continue', 'VB'), ('third-rate', 'JJ'), ('nation', 'NN'), ('.', '.')]\n",
      "\n",
      "\n",
      "Sentence 10: We have to fight them on that level, and we have to win that war.\n",
      "POS Tags: [('We', 'PRP'), ('fight', 'VBD'), ('level', 'NN'), (',', ','), ('win', 'JJ'), ('war', 'NN'), ('.', '.')]\n",
      "\n",
      "\n",
      "Sentence 11: That is the first vision I have for India.\n",
      "POS Tags: [('That', 'DT'), ('first', 'JJ'), ('vision', 'NN'), ('I', 'PRP'), ('India', 'NNP'), ('.', '.')]\n",
      "\n",
      "\n"
     ]
    }
   ],
   "source": [
    "## we will find out the pos tags of each word in the sentences\n",
    "for i in range(len(sentences)):\n",
    "    words = nltk.word_tokenize(sentences[i])\n",
    "    words=[word for word in words if word not in set(stopwords.words('english'))]\n",
    "    pos_tags = nltk.pos_tag(words)\n",
    "    print(f\"Sentence {i+1}: {sentences[i]}\")\n",
    "    print(\"POS Tags:\", pos_tags)\n",
    "    print(\"\\n\")"
   ]
  },
  {
   "cell_type": "code",
   "execution_count": 18,
   "id": "35545eaa",
   "metadata": {},
   "outputs": [
    {
     "name": "stdout",
     "output_type": "stream",
     "text": [
      "[('Taj', 'NN')]\n",
      "[('Mahal', 'NN')]\n",
      "[('is', 'VBZ')]\n",
      "[('a', 'DT')]\n",
      "[('beautiful', 'NN')]\n",
      "[('monument', 'NN')]\n",
      "[('in', 'IN')]\n",
      "[('India.', 'NN')]\n",
      "[('It', 'PRP')]\n",
      "[('was', 'VBD')]\n",
      "[('built', 'NN')]\n",
      "[('by', 'IN')]\n",
      "[('Mughal', 'NN')]\n",
      "[('Emperor', 'NN')]\n",
      "[('Shah', 'NN')]\n",
      "[('Jahan', 'NN')]\n",
      "[('in', 'IN')]\n",
      "[('memory', 'NN')]\n",
      "[('of', 'IN')]\n",
      "[('his', 'PRP$')]\n",
      "[('wife', 'NN')]\n",
      "[('Mumtaz', 'NN')]\n",
      "[('Mahal.', 'NN')]\n"
     ]
    }
   ],
   "source": [
    "for word in \"Taj Mahal is a beautiful monument in India. It was built by Mughal Emperor Shah Jahan in memory of his wife Mumtaz Mahal.\".split(): \n",
    "    print(nltk.pos_tag([word]))"
   ]
  },
  {
   "cell_type": "code",
   "execution_count": null,
   "id": "a9380510",
   "metadata": {},
   "outputs": [],
   "source": []
  }
 ],
 "metadata": {
  "kernelspec": {
   "display_name": "Python 3",
   "language": "python",
   "name": "python3"
  },
  "language_info": {
   "codemirror_mode": {
    "name": "ipython",
    "version": 3
   },
   "file_extension": ".py",
   "mimetype": "text/x-python",
   "name": "python",
   "nbconvert_exporter": "python",
   "pygments_lexer": "ipython3",
   "version": "3.13.4"
  }
 },
 "nbformat": 4,
 "nbformat_minor": 5
}
