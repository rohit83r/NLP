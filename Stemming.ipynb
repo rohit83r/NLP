{
 "cells": [
  {
   "cell_type": "code",
   "execution_count": 14,
   "id": "ef8a0a7b",
   "metadata": {},
   "outputs": [],
   "source": [
    "# Stemming is the process of reducing a word to its base or root form.\n",
    "# This is useful in natural language processing tasks where you want to treat different forms of a word as the same.\n",
    "# Stemming can be done using various algorithms, such as the Porter stemming algorithm or the Snowball stemming algorithm."
   ]
  },
  {
   "cell_type": "code",
   "execution_count": 15,
   "id": "0530d442",
   "metadata": {},
   "outputs": [],
   "source": [
    "words = [\"goes\", \"going\", \"gone\", \"went\",\"eats\", \"eating\", \"eaten\", \"ate\",\"writes\", \"writing\", \"written\", \"wrote\",\"dances\", \"dancing\", \"danced\", \"dance\"]"
   ]
  },
  {
   "cell_type": "code",
   "execution_count": 16,
   "id": "b1cd68a3",
   "metadata": {},
   "outputs": [],
   "source": [
    "from nltk.stem import PorterStemmer"
   ]
  },
  {
   "cell_type": "code",
   "execution_count": 17,
   "id": "d44be264",
   "metadata": {},
   "outputs": [
    {
     "name": "stdout",
     "output_type": "stream",
     "text": [
      "goes -> goe\n",
      "going -> go\n",
      "gone -> gone\n",
      "went -> went\n",
      "eats -> eat\n",
      "eating -> eat\n",
      "eaten -> eaten\n",
      "ate -> ate\n",
      "writes -> write\n",
      "writing -> write\n",
      "written -> written\n",
      "wrote -> wrote\n",
      "dances -> danc\n",
      "dancing -> danc\n",
      "danced -> danc\n",
      "dance -> danc\n"
     ]
    }
   ],
   "source": [
    "stemming =PorterStemmer()\n",
    "for word in words:\n",
    "    print(f\"{word} -> {stemming.stem(word)}\")"
   ]
  },
  {
   "cell_type": "code",
   "execution_count": 18,
   "id": "d05e68de",
   "metadata": {},
   "outputs": [],
   "source": [
    "## RegexpStemmer Class\n",
    "# The `RegexpStemmer` class in NLTK allows you to define custom stemming rules using regular expressions. \n",
    "# This can be useful when you want to create a stemmer that follows specific patterns or rules for your dataset."
   ]
  },
  {
   "cell_type": "code",
   "execution_count": 19,
   "id": "9b41f019",
   "metadata": {},
   "outputs": [],
   "source": [
    "from nltk.stem import RegexpStemmer"
   ]
  },
  {
   "cell_type": "code",
   "execution_count": 20,
   "id": "a76f351a",
   "metadata": {},
   "outputs": [],
   "source": [
    "reg_stemmer = RegexpStemmer(r\"ing$|ed$|es$|s$\", min=4)"
   ]
  },
  {
   "cell_type": "code",
   "execution_count": 21,
   "id": "c888a313",
   "metadata": {},
   "outputs": [
    {
     "data": {
      "text/plain": [
       "'eat'"
      ]
     },
     "execution_count": 21,
     "metadata": {},
     "output_type": "execute_result"
    }
   ],
   "source": [
    "reg_stemmer.stem('eating')"
   ]
  },
  {
   "cell_type": "code",
   "execution_count": 22,
   "id": "94660d22",
   "metadata": {},
   "outputs": [],
   "source": [
    "# Regular expressions can be used to define complex patterns for stemming.\n",
    "# For example, you can create a stemmer that removes specific suffixes or prefixes from words.\n",
    "# This allows for more flexibility in how words are stemmed compared to traditional stemming algorithms.\n",
    "# The `min` parameter specifies the minimum length of the word to be stemmed."
   ]
  },
  {
   "cell_type": "code",
   "execution_count": 23,
   "id": "8841a0cd",
   "metadata": {},
   "outputs": [],
   "source": [
    "## Snowball Stemmer\n",
    "# The Snowball stemmer is a more advanced stemming algorithm that supports multiple languages.\n",
    "# It can handle a wide range of languages and can be customized for specific needs.\n",
    "# The Snowball stemmer is implemented in NLTK using the SnowballStemmer class.\n"
   ]
  },
  {
   "cell_type": "code",
   "execution_count": 24,
   "id": "dd15bae0",
   "metadata": {},
   "outputs": [],
   "source": [
    "from nltk.stem import SnowballStemmer\n",
    "snowball_stemmer = SnowballStemmer(\"english\")"
   ]
  },
  {
   "cell_type": "code",
   "execution_count": 25,
   "id": "2ee53108",
   "metadata": {},
   "outputs": [
    {
     "name": "stdout",
     "output_type": "stream",
     "text": [
      "goes -> goe\n",
      "going -> go\n",
      "gone -> gone\n",
      "went -> went\n",
      "eats -> eat\n",
      "eating -> eat\n",
      "eaten -> eaten\n",
      "ate -> ate\n",
      "writes -> write\n",
      "writing -> write\n",
      "written -> written\n",
      "wrote -> wrote\n",
      "dances -> danc\n",
      "dancing -> danc\n",
      "danced -> danc\n",
      "dance -> danc\n"
     ]
    }
   ],
   "source": [
    "for word in words:\n",
    "    print(f\"{word} -> {snowball_stemmer.stem(word)}\")"
   ]
  },
  {
   "cell_type": "code",
   "execution_count": 26,
   "id": "dec6496d",
   "metadata": {},
   "outputs": [
    {
     "data": {
      "text/plain": [
       "('fairli', 'sportingli', 'unfairli', 'unfair')"
      ]
     },
     "execution_count": 26,
     "metadata": {},
     "output_type": "execute_result"
    }
   ],
   "source": [
    "stemming.stem(\"fairly\"),stemming.stem(\"sportingly\"),stemming.stem(\"unfairly\"),stemming.stem(\"unfairness\")"
   ]
  },
  {
   "cell_type": "code",
   "execution_count": 28,
   "id": "9f5c46c5",
   "metadata": {},
   "outputs": [
    {
     "data": {
      "text/plain": [
       "('fair', 'sport', 'unfair', 'goe')"
      ]
     },
     "execution_count": 28,
     "metadata": {},
     "output_type": "execute_result"
    }
   ],
   "source": [
    "snowball_stemmer.stem(\"fairly\"),snowball_stemmer.stem(\"sportingly\"),snowball_stemmer.stem(\"unfairly\"),snowball_stemmer.stem(\"goes\")"
   ]
  },
  {
   "cell_type": "code",
   "execution_count": null,
   "id": "9717ab8b",
   "metadata": {},
   "outputs": [],
   "source": [
    "# The Snowball stemmer is more sophisticated than the Porter stemmer and can handle a wider range of words and languages.\n",
    "# It is particularly useful for applications that require high accuracy in stemming.\n",
    "# The Snowball stemmer can be used in various natural language processing tasks, such as text classification, information retrieval, and sentiment analysis.\n",
    "# It is also available in other programming languages, making it a versatile choice for stemming tasks."
   ]
  }
 ],
 "metadata": {
  "kernelspec": {
   "display_name": "Python 3",
   "language": "python",
   "name": "python3"
  },
  "language_info": {
   "codemirror_mode": {
    "name": "ipython",
    "version": 3
   },
   "file_extension": ".py",
   "mimetype": "text/x-python",
   "name": "python",
   "nbconvert_exporter": "python",
   "pygments_lexer": "ipython3",
   "version": "3.13.4"
  }
 },
 "nbformat": 4,
 "nbformat_minor": 5
}
