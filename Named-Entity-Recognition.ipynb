{
 "cells": [
  {
   "cell_type": "code",
   "execution_count": 10,
   "id": "e34b90c9",
   "metadata": {},
   "outputs": [],
   "source": [
    "sentence=\"The Eiffel Tower is a wrought-iron lattice tower on the Champ de Mars in Paris, France. It is named after the engineer Gustave Eiffel, whose company designed and built the tower.\""
   ]
  },
  {
   "cell_type": "code",
   "execution_count": 11,
   "id": "88b36602",
   "metadata": {},
   "outputs": [],
   "source": [
    "import nltk\n",
    "words=nltk.word_tokenize(sentence)"
   ]
  },
  {
   "cell_type": "code",
   "execution_count": 12,
   "id": "7a7b79a4",
   "metadata": {},
   "outputs": [],
   "source": [
    "tag_element=nltk.pos_tag(words)"
   ]
  },
  {
   "cell_type": "code",
   "execution_count": 22,
   "id": "58fbefca",
   "metadata": {},
   "outputs": [
    {
     "name": "stderr",
     "output_type": "stream",
     "text": [
      "[nltk_data] Downloading package maxent_ne_chunker_tab to\n",
      "[nltk_data]     C:\\Users\\rohit/nltk_data...\n",
      "[nltk_data]   Package maxent_ne_chunker_tab is already up-to-date!\n",
      "[nltk_data] Downloading package words to C:\\Users\\rohit/nltk_data...\n",
      "[nltk_data]   Unzipping corpora\\words.zip.\n"
     ]
    },
    {
     "data": {
      "text/plain": [
       "True"
      ]
     },
     "execution_count": 22,
     "metadata": {},
     "output_type": "execute_result"
    }
   ],
   "source": [
    "nltk.download('maxent_ne_chunker_tab')\n",
    "nltk.download('words')"
   ]
  },
  {
   "cell_type": "code",
   "execution_count": 24,
   "id": "a9216fc4",
   "metadata": {},
   "outputs": [],
   "source": [
    "nltk.ne_chunk(tag_element).draw()"
   ]
  },
  {
   "cell_type": "code",
   "execution_count": 25,
   "id": "15fb0e36",
   "metadata": {},
   "outputs": [
    {
     "name": "stdout",
     "output_type": "stream",
     "text": [
      "(S\n",
      "  The/DT\n",
      "  (ORGANIZATION Eiffel/NNP Tower/NNP)\n",
      "  is/VBZ\n",
      "  a/DT\n",
      "  wrought-iron/JJ\n",
      "  lattice/NN\n",
      "  tower/NN\n",
      "  on/IN\n",
      "  the/DT\n",
      "  (ORGANIZATION Champ/NNP)\n",
      "  de/FW\n",
      "  (PERSON Mars/NNP)\n",
      "  in/IN\n",
      "  (GPE Paris/NNP)\n",
      "  ,/,\n",
      "  (GPE France/NNP)\n",
      "  ./.\n",
      "  It/PRP\n",
      "  is/VBZ\n",
      "  named/VBN\n",
      "  after/IN\n",
      "  the/DT\n",
      "  engineer/NN\n",
      "  (PERSON Gustave/NNP Eiffel/NNP)\n",
      "  ,/,\n",
      "  whose/WP$\n",
      "  company/NN\n",
      "  designed/VBN\n",
      "  and/CC\n",
      "  built/VBN\n",
      "  the/DT\n",
      "  tower/NN\n",
      "  ./.)\n"
     ]
    }
   ],
   "source": [
    "tree=nltk.ne_chunk(tag_element)\n",
    "print(tree)"
   ]
  }
 ],
 "metadata": {
  "kernelspec": {
   "display_name": "Python 3",
   "language": "python",
   "name": "python3"
  },
  "language_info": {
   "codemirror_mode": {
    "name": "ipython",
    "version": 3
   },
   "file_extension": ".py",
   "mimetype": "text/x-python",
   "name": "python",
   "nbconvert_exporter": "python",
   "pygments_lexer": "ipython3",
   "version": "3.13.4"
  }
 },
 "nbformat": 4,
 "nbformat_minor": 5
}
