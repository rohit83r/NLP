{
 "cells": [
  {
   "cell_type": "code",
   "execution_count": 19,
   "id": "ada31fa8",
   "metadata": {},
   "outputs": [
    {
     "name": "stdout",
     "output_type": "stream",
     "text": [
      "Requirement already satisfied: nltk in c:\\users\\rohit\\appdata\\local\\programs\\python\\python313\\lib\\site-packages (3.9.1)\n",
      "Requirement already satisfied: click in c:\\users\\rohit\\appdata\\local\\programs\\python\\python313\\lib\\site-packages (from nltk) (8.2.1)\n",
      "Requirement already satisfied: joblib in c:\\users\\rohit\\appdata\\local\\programs\\python\\python313\\lib\\site-packages (from nltk) (1.5.1)\n",
      "Requirement already satisfied: regex>=2021.8.3 in c:\\users\\rohit\\appdata\\local\\programs\\python\\python313\\lib\\site-packages (from nltk) (2024.11.6)\n",
      "Requirement already satisfied: tqdm in c:\\users\\rohit\\appdata\\local\\programs\\python\\python313\\lib\\site-packages (from nltk) (4.67.1)\n",
      "Requirement already satisfied: colorama in c:\\users\\rohit\\appdata\\local\\programs\\python\\python313\\lib\\site-packages (from click->nltk) (0.4.6)\n",
      "Note: you may need to restart the kernel to use updated packages.\n"
     ]
    },
    {
     "name": "stderr",
     "output_type": "stream",
     "text": [
      "[nltk_data] Downloading package punkt to C:\\Users\\rohit/nltk_data...\n",
      "[nltk_data]   Package punkt is already up-to-date!\n"
     ]
    },
    {
     "data": {
      "text/plain": [
       "True"
      ]
     },
     "execution_count": 19,
     "metadata": {},
     "output_type": "execute_result"
    }
   ],
   "source": [
    "%pip install nltk\n",
    "import nltk\n",
    "nltk.download('punkt')\n"
   ]
  },
  {
   "cell_type": "code",
   "execution_count": 20,
   "id": "0a4237ac",
   "metadata": {},
   "outputs": [],
   "source": [
    "corpus = \"\"\"This is a sample sentence for tokenization.\n",
    "Hello, world! Tokenization is the process of breaking text into smaller pieces, called tokens. Tokens can be words, punctuation marks, or symbols.\"\"\""
   ]
  },
  {
   "cell_type": "code",
   "execution_count": 21,
   "id": "b83ba12d",
   "metadata": {},
   "outputs": [
    {
     "name": "stdout",
     "output_type": "stream",
     "text": [
      "This is a sample sentence for tokenization.\n",
      "Hello, world! Tokenization is the process of breaking text into smaller pieces, called tokens. Tokens can be words, punctuation marks, or symbols.\n"
     ]
    }
   ],
   "source": [
    "print(corpus)\n"
   ]
  },
  {
   "cell_type": "code",
   "execution_count": 22,
   "id": "3b17c0d7",
   "metadata": {},
   "outputs": [
    {
     "name": "stderr",
     "output_type": "stream",
     "text": [
      "[nltk_data] Downloading package punkt_tab to\n",
      "[nltk_data]     C:\\Users\\rohit/nltk_data...\n",
      "[nltk_data]   Package punkt_tab is already up-to-date!\n"
     ]
    }
   ],
   "source": [
    "## Tokenization using NLTK\n",
    "import nltk\n",
    "nltk.download('punkt_tab')  # Download the punkt tokenizer models\n",
    "from nltk.tokenize import sent_tokenize"
   ]
  },
  {
   "cell_type": "code",
   "execution_count": 23,
   "id": "551f1499",
   "metadata": {},
   "outputs": [],
   "source": [
    "documents=sent_tokenize(corpus)"
   ]
  },
  {
   "cell_type": "code",
   "execution_count": 24,
   "id": "e7251c08",
   "metadata": {},
   "outputs": [
    {
     "data": {
      "text/plain": [
       "list"
      ]
     },
     "execution_count": 24,
     "metadata": {},
     "output_type": "execute_result"
    }
   ],
   "source": [
    "type(documents)"
   ]
  },
  {
   "cell_type": "code",
   "execution_count": 25,
   "id": "24626f18",
   "metadata": {},
   "outputs": [
    {
     "name": "stdout",
     "output_type": "stream",
     "text": [
      "This is a sample sentence for tokenization.\n",
      "Hello, world!\n",
      "Tokenization is the process of breaking text into smaller pieces, called tokens.\n",
      "Tokens can be words, punctuation marks, or symbols.\n"
     ]
    }
   ],
   "source": [
    "for sentence in documents:\n",
    "    print(sentence)"
   ]
  },
  {
   "cell_type": "code",
   "execution_count": 26,
   "id": "afb0c3ac",
   "metadata": {},
   "outputs": [],
   "source": [
    "## Tokenization \n",
    "## Paragraph -->words\n",
    "## sentenc-->words\n",
    "from nltk.tokenize import word_tokenize"
   ]
  },
  {
   "cell_type": "code",
   "execution_count": 27,
   "id": "0d7afe96",
   "metadata": {},
   "outputs": [
    {
     "data": {
      "text/plain": [
       "['This',\n",
       " 'is',\n",
       " 'a',\n",
       " 'sample',\n",
       " 'sentence',\n",
       " 'for',\n",
       " 'tokenization',\n",
       " '.',\n",
       " 'Hello',\n",
       " ',',\n",
       " 'world',\n",
       " '!',\n",
       " 'Tokenization',\n",
       " 'is',\n",
       " 'the',\n",
       " 'process',\n",
       " 'of',\n",
       " 'breaking',\n",
       " 'text',\n",
       " 'into',\n",
       " 'smaller',\n",
       " 'pieces',\n",
       " ',',\n",
       " 'called',\n",
       " 'tokens',\n",
       " '.',\n",
       " 'Tokens',\n",
       " 'can',\n",
       " 'be',\n",
       " 'words',\n",
       " ',',\n",
       " 'punctuation',\n",
       " 'marks',\n",
       " ',',\n",
       " 'or',\n",
       " 'symbols',\n",
       " '.']"
      ]
     },
     "execution_count": 27,
     "metadata": {},
     "output_type": "execute_result"
    }
   ],
   "source": [
    "word_tokenize(corpus)"
   ]
  },
  {
   "cell_type": "code",
   "execution_count": 28,
   "id": "caf42c9d",
   "metadata": {},
   "outputs": [
    {
     "name": "stdout",
     "output_type": "stream",
     "text": [
      "['This', 'is', 'a', 'sample', 'sentence', 'for', 'tokenization', '.']\n",
      "['Hello', ',', 'world', '!']\n",
      "['Tokenization', 'is', 'the', 'process', 'of', 'breaking', 'text', 'into', 'smaller', 'pieces', ',', 'called', 'tokens', '.']\n",
      "['Tokens', 'can', 'be', 'words', ',', 'punctuation', 'marks', ',', 'or', 'symbols', '.']\n"
     ]
    }
   ],
   "source": [
    "for sentence in documents:\n",
    "    print(word_tokenize(sentence))"
   ]
  },
  {
   "cell_type": "code",
   "execution_count": 29,
   "id": "8026b878",
   "metadata": {},
   "outputs": [
    {
     "data": {
      "text/plain": [
       "['This',\n",
       " 'is',\n",
       " 'a',\n",
       " 'sample',\n",
       " 'sentence',\n",
       " 'for',\n",
       " 'tokenization',\n",
       " '.',\n",
       " 'Hello',\n",
       " ',',\n",
       " 'world',\n",
       " '!',\n",
       " 'Tokenization',\n",
       " 'is',\n",
       " 'the',\n",
       " 'process',\n",
       " 'of',\n",
       " 'breaking',\n",
       " 'text',\n",
       " 'into',\n",
       " 'smaller',\n",
       " 'pieces',\n",
       " ',',\n",
       " 'called',\n",
       " 'tokens',\n",
       " '.',\n",
       " 'Tokens',\n",
       " 'can',\n",
       " 'be',\n",
       " 'words',\n",
       " ',',\n",
       " 'punctuation',\n",
       " 'marks',\n",
       " ',',\n",
       " 'or',\n",
       " 'symbols',\n",
       " '.']"
      ]
     },
     "execution_count": 29,
     "metadata": {},
     "output_type": "execute_result"
    }
   ],
   "source": [
    "from nltk.tokenize import wordpunct_tokenize\n",
    "wordpunct_tokenize(corpus)"
   ]
  },
  {
   "cell_type": "code",
   "execution_count": 30,
   "id": "0f905f41",
   "metadata": {},
   "outputs": [],
   "source": [
    "from nltk.tokenize import TreebankWordDetokenizer"
   ]
  },
  {
   "cell_type": "code",
   "execution_count": 31,
   "id": "24a9910e",
   "metadata": {},
   "outputs": [],
   "source": [
    "tokenizer=TreebankWordDetokenizer()"
   ]
  },
  {
   "cell_type": "code",
   "execution_count": 32,
   "id": "5f6f605d",
   "metadata": {},
   "outputs": [
    {
     "data": {
      "text/plain": [
       "'T h i s   i s   a   s a m p l e   s e n t e n c e   f o r   t o k e n i z a t i o n . \\n H e l l o,   w o r l d!   T o k e n i z a t i o n   i s   t h e   p r o c e s s   o f   b r e a k i n g   t e x t   i n t o   s m a l l e r   p i e c e s,   c a l l e d   t o k e n s .   T o k e n s   c a n   b e   w o r d s,   p u n c t u a t i o n   m a r k s,   o r   s y m b o l s.'"
      ]
     },
     "execution_count": 32,
     "metadata": {},
     "output_type": "execute_result"
    }
   ],
   "source": [
    "tokenizer.tokenize(corpus)"
   ]
  },
  {
   "cell_type": "code",
   "execution_count": null,
   "id": "a4e28708",
   "metadata": {},
   "outputs": [],
   "source": []
  },
  {
   "cell_type": "code",
   "execution_count": null,
   "id": "a41eddcb",
   "metadata": {},
   "outputs": [],
   "source": []
  }
 ],
 "metadata": {
  "kernelspec": {
   "display_name": "Python 3",
   "language": "python",
   "name": "python3"
  },
  "language_info": {
   "codemirror_mode": {
    "name": "ipython",
    "version": 3
   },
   "file_extension": ".py",
   "mimetype": "text/x-python",
   "name": "python",
   "nbconvert_exporter": "python",
   "pygments_lexer": "ipython3",
   "version": "3.13.4"
  }
 },
 "nbformat": 4,
 "nbformat_minor": 5
}
